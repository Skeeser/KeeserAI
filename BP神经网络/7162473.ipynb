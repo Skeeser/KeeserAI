{
 "cells": [
  {
   "cell_type": "markdown",
   "metadata": {
    "collapsed": false
   },
   "source": [
    "![](https://ai-studio-static-online.cdn.bcebos.com/61c6f63d666f4a81b98171b775ee8d486e610cf8fa654225b5cdd3c4b7db96ce)本项目对应视频课程已上线，点击前往学习[深度学习CV从入门到实战](https://aistudio.baidu.com/aistudio/course/introduce/789)课节4实践讲解"
   ]
  },
  {
   "cell_type": "markdown",
   "metadata": {
    "collapsed": false
   },
   "source": [
    "# **任务描述：**\n",
    "\n",
    "构建一个模型，根据鸢尾花的花萼和花瓣大小将其分为三种不同的品种。\n",
    "\n",
    "![](https://ai-studio-static-online.cdn.bcebos.com/dd74666475b549fcae99ac2aff67488f015cdd76569d4d208909983bcf40fe3c)"
   ]
  },
  {
   "cell_type": "code",
   "execution_count": null,
   "metadata": {
    "collapsed": false
   },
   "outputs": [],
   "source": []
  },
  {
   "cell_type": "markdown",
   "metadata": {
    "collapsed": false
   },
   "source": [
    "\n",
    "# **数据集**\n",
    "总共包含150行数据\n",
    "\n",
    "每一行数据由 4 个特征值及一个目标值组成。\n",
    "\n",
    "4 个特征值分别为：萼片长度、萼片宽度、花瓣长度、花瓣宽度\n",
    "\n",
    "目标值为三种不同类别的鸢尾花，分别为：\tIris Setosa、Iris Versicolour、Iris Virginica\n",
    "\n",
    "![](https://ai-studio-static-online.cdn.bcebos.com/8bdc417331ef45d5a380d2769f3a8bcd7b361212b20d4e78b2a32ee9c7a7b1fa)"
   ]
  },
  {
   "cell_type": "markdown",
   "metadata": {
    "collapsed": false
   },
   "source": [
    "\n",
    "**首先导入必要的包：**\n",
    "\n",
    "**numpy**：python第三方库，用于科学计算\n",
    "\n",
    "**matplotlib**:python第三方库，主要用于进行可视化\n",
    "\n",
    "**sklearn**:python的重要机器学习库，其中封装了大量的机器学习算法，如：分类、回归、降维以及聚类"
   ]
  },
  {
   "cell_type": "code",
   "execution_count": 1,
   "metadata": {
    "collapsed": false
   },
   "outputs": [],
   "source": [
    "import numpy as np                \r\n",
    "from matplotlib import colors     \r\n",
    "from sklearn import svm            \r\n",
    "from sklearn.svm import SVC\r\n",
    "from sklearn import model_selection\r\n",
    "import matplotlib.pyplot as plt\r\n",
    "import matplotlib as mpl"
   ]
  },
  {
   "cell_type": "code",
   "execution_count": 2,
   "metadata": {
    "collapsed": false
   },
   "outputs": [
    {
     "name": "stdout",
     "output_type": "stream",
     "text": [
      "Looking in indexes: https://pypi.tuna.tsinghua.edu.cn/simple\n",
      "Requirement already satisfied: matplotlib in /opt/conda/envs/python35-paddle120-env/lib/python3.7/site-packages (2.2.3)\n",
      "Requirement already satisfied: pytz in /opt/conda/envs/python35-paddle120-env/lib/python3.7/site-packages (from matplotlib) (2019.3)\n",
      "Requirement already satisfied: pyparsing!=2.0.4,!=2.1.2,!=2.1.6,>=2.0.1 in /opt/conda/envs/python35-paddle120-env/lib/python3.7/site-packages (from matplotlib) (3.0.9)\n",
      "Requirement already satisfied: six>=1.10 in /opt/conda/envs/python35-paddle120-env/lib/python3.7/site-packages (from matplotlib) (1.16.0)\n",
      "Requirement already satisfied: cycler>=0.10 in /opt/conda/envs/python35-paddle120-env/lib/python3.7/site-packages (from matplotlib) (0.10.0)\n",
      "Requirement already satisfied: numpy>=1.7.1 in /opt/conda/envs/python35-paddle120-env/lib/python3.7/site-packages (from matplotlib) (1.21.6)\n",
      "Requirement already satisfied: python-dateutil>=2.1 in /opt/conda/envs/python35-paddle120-env/lib/python3.7/site-packages (from matplotlib) (2.8.2)\n",
      "Requirement already satisfied: kiwisolver>=1.0.1 in /opt/conda/envs/python35-paddle120-env/lib/python3.7/site-packages (from matplotlib) (1.1.0)\n",
      "Requirement already satisfied: setuptools in /opt/conda/envs/python35-paddle120-env/lib/python3.7/site-packages (from kiwisolver>=1.0.1->matplotlib) (41.4.0)\n",
      "\n",
      "\u001b[1m[\u001b[0m\u001b[34;49mnotice\u001b[0m\u001b[1;39;49m]\u001b[0m\u001b[39;49m A new release of pip available: \u001b[0m\u001b[31;49m22.1.2\u001b[0m\u001b[39;49m -> \u001b[0m\u001b[32;49m23.3.1\u001b[0m\n",
      "\u001b[1m[\u001b[0m\u001b[34;49mnotice\u001b[0m\u001b[1;39;49m]\u001b[0m\u001b[39;49m To update, run: \u001b[0m\u001b[32;49mpip install --upgrade pip\u001b[0m\n"
     ]
    }
   ],
   "source": [
    "#若提示缺少matplotlib，则可使用以下命令pip安装matplotlib\n",
    "!pip install matplotlib"
   ]
  },
  {
   "cell_type": "markdown",
   "metadata": {
    "collapsed": false
   },
   "source": [
    "# **Step1.数据准备**\n",
    "\n",
    "(1)从指定路径下加载数据\n",
    "\n",
    "(2)对加载的数据进行数据分割，x_train,x_test,y_train,y_test分别表示训练集特征、训练集标签、测试集特征、测试集标签"
   ]
  },
  {
   "cell_type": "code",
   "execution_count": 3,
   "metadata": {
    "collapsed": false
   },
   "outputs": [],
   "source": [
    "#*************将字符串转为整型，便于数据加载***********************\r\n",
    "def iris_type(s):\r\n",
    "    it = {b'Iris-setosa':0, b'Iris-versicolor':1, b'Iris-virginica':2}\r\n",
    "    return it[s]"
   ]
  },
  {
   "cell_type": "code",
   "execution_count": 4,
   "metadata": {
    "collapsed": false
   },
   "outputs": [],
   "source": [
    "#加载数据\n",
    "data_path='/home/aistudio/data/data5420/iris.data'          #数据文件的路径\n",
    "data = np.loadtxt(data_path,                                #数据文件路径\n",
    "                  dtype=float,                              #数据类型\n",
    "                  delimiter=',',                            #数据分隔符\n",
    "                  converters={4:iris_type})                 #将第5列使用函数iris_type进行转换\n",
    "#print(data)                                                 #data为二维数组，data.shape=(150, 5)\n",
    "#print(data.shape)\n",
    "#数据分割\n",
    "x, y = np.split(data,                                       #要切分的数组\n",
    "                (4,),                                       #沿轴切分的位置，第5列开始往后为y\n",
    "                axis=1)                                     #代表纵向分割，按列分割\n",
    "x = x[:, 0:2]                                               #在X中我们取前两列作为特征，为了后面的可视化。x[:,0:4]代表第一维(行)全取，第二维(列)取0~2\n",
    "#print(x)\n",
    "x_train,x_test,y_train,y_test=model_selection.train_test_split(x,              #所要划分的样本特征集\n",
    "                                                               y,              #所要划分的样本结果\n",
    "                                                               random_state=1, #随机数种子\n",
    "                                                               test_size=0.3)  #测试样本占比"
   ]
  },
  {
   "cell_type": "markdown",
   "metadata": {
    "collapsed": false
   },
   "source": [
    "# **Step2.模型搭建**\n",
    "\n",
    "C越大，相当于惩罚松弛变量，希望松弛变量接近0，即对误分类的惩罚增大，趋向于对训练集全分对的情况，这样对训练集测试时准确率很高，但泛化能力弱。\n",
    "C值小，对误分类的惩罚减小，允许容错，将他们当成噪声点，泛化能力较强。\n",
    "\n",
    "kernel='linear'时，为线性核\n",
    "\n",
    "decision_function_shape='ovr'时，为one v rest，即一个类别与其他类别进行划分，\n",
    "\n",
    "decision_function_shape='ovo'时，为one v one，即将类别两两之间进行划分，用二分类的方法模拟多分类的结果。"
   ]
  },
  {
   "cell_type": "code",
   "execution_count": 5,
   "metadata": {
    "collapsed": false
   },
   "outputs": [],
   "source": [
    "#**********************SVM分类器构建*************************\r\n",
    "def classifier():\r\n",
    "    #clf = svm.SVC(C=0.8,kernel='rbf', gamma=50,decision_function_shape='ovr')\r\n",
    "    clf = svm.SVC(C=0.5,                         #误差项惩罚系数,默认值是1\r\n",
    "                  kernel='linear',               #线性核 kenrel=\"rbf\":高斯核\r\n",
    "                  decision_function_shape='ovr') #决策函数\r\n",
    "    return clf"
   ]
  },
  {
   "cell_type": "code",
   "execution_count": 6,
   "metadata": {
    "collapsed": false
   },
   "outputs": [],
   "source": [
    "# 2.定义模型：SVM模型定义\n",
    "clf = classifier()"
   ]
  },
  {
   "cell_type": "markdown",
   "metadata": {
    "collapsed": false
   },
   "source": [
    "# **Step3.模型训练**"
   ]
  },
  {
   "cell_type": "code",
   "execution_count": 7,
   "metadata": {
    "collapsed": false
   },
   "outputs": [],
   "source": [
    "#***********************训练模型*****************************\r\n",
    "def train(clf,x_train,y_train):\r\n",
    "    clf.fit(x_train,         #训练集特征向量\r\n",
    "            y_train.ravel()) #训练集目标值"
   ]
  },
  {
   "cell_type": "code",
   "execution_count": 8,
   "metadata": {
    "collapsed": false
   },
   "outputs": [],
   "source": [
    "#***********************训练模型*****************************\r\n",
    "def train(clf,x_train,y_train):\r\n",
    "    clf.fit(x_train,         #训练集特征向量\r\n",
    "            y_train.ravel()) #训练集目标值"
   ]
  },
  {
   "cell_type": "code",
   "execution_count": 9,
   "metadata": {
    "collapsed": false
   },
   "outputs": [],
   "source": [
    "# 3.训练SVM模型\n",
    "train(clf,x_train,y_train)"
   ]
  },
  {
   "cell_type": "markdown",
   "metadata": {
    "collapsed": false
   },
   "source": [
    "# **Step4.模型评估**"
   ]
  },
  {
   "cell_type": "code",
   "execution_count": 10,
   "metadata": {
    "collapsed": false
   },
   "outputs": [],
   "source": [
    "#**************并判断a b是否相等，计算acc的均值*************\r\n",
    "def show_accuracy(a, b, tip):\r\n",
    "    acc = a.ravel() == b.ravel()\r\n",
    "    print('%s Accuracy:%.3f' %(tip, np.mean(acc)))"
   ]
  },
  {
   "cell_type": "code",
   "execution_count": 11,
   "metadata": {
    "collapsed": false
   },
   "outputs": [],
   "source": [
    "def print_accuracy(clf,x_train,y_train,x_test,y_test):\r\n",
    "    #分别打印训练集和测试集的准确率  score(x_train,y_train):表示输出x_train,y_train在模型上的准确率\r\n",
    "    print('trianing prediction:%.3f' %(clf.score(x_train, y_train)))\r\n",
    "    print('test data prediction:%.3f' %(clf.score(x_test, y_test)))\r\n",
    "    #原始结果与预测结果进行对比   predict()表示对x_train样本进行预测，返回样本类别\r\n",
    "    show_accuracy(clf.predict(x_train), y_train, 'traing data')\r\n",
    "    show_accuracy(clf.predict(x_test), y_test, 'testing data')\r\n",
    "    #计算决策函数的值，表示x到各分割平面的距离\r\n",
    "    print('decision_function:\\n', clf.decision_function(x_train))"
   ]
  },
  {
   "cell_type": "code",
   "execution_count": 12,
   "metadata": {
    "collapsed": false
   },
   "outputs": [
    {
     "name": "stdout",
     "output_type": "stream",
     "text": [
      "trianing prediction:0.819\n",
      "test data prediction:0.778\n",
      "traing data Accuracy:0.819\n",
      "testing data Accuracy:0.778\n",
      "decision_function:\n",
      " [[-0.30200388  1.26702365  2.28292526]\n",
      " [ 2.1831931  -0.19913458  1.06956422]\n",
      " [ 2.25424706  0.79489006 -0.20587224]\n",
      " [ 2.22927055  0.98556708 -0.22777916]\n",
      " [ 0.95815482  2.18401419 -0.17375192]\n",
      " [ 2.23120771  0.84075865 -0.19144453]\n",
      " [ 2.17327158 -0.14884286  0.92795057]\n",
      " [-0.28667175  1.11372202  2.28302495]\n",
      " [-0.27989264  1.21274017  2.25881762]\n",
      " [-0.29313813  1.24442795  2.2732035 ]\n",
      " [-0.27008816  1.2272086   2.22682127]\n",
      " [-0.25981661  2.21998499  1.20479842]\n",
      " [-0.17071168  0.99542159  2.17180911]\n",
      " [-0.30018876  1.25829325  2.2829419 ]\n",
      " [-0.17539342  2.15368837  1.06772814]\n",
      " [ 2.25702986  0.81715893 -0.22763295]\n",
      " [-0.23988847  2.23286001  1.06656755]\n",
      " [-0.26915223  2.23333222  1.21679709]\n",
      " [ 2.22927055  0.98556708 -0.22777916]\n",
      " [ 2.2530903   0.85932358 -0.2359772 ]\n",
      " [-0.26740532  1.20784059  2.23528903]\n",
      " [ 2.26803658  0.80468578 -0.24299359]\n",
      " [-0.24030826  1.18556963  2.19011259]\n",
      " [-0.25881807  1.17240759  2.23535197]\n",
      " [-0.27273902  1.20332527  2.24866913]\n",
      " [-0.20956348  2.19674141  1.06726512]\n",
      " [-0.26556065  1.16490628  2.24871607]\n",
      " [-0.22965507  1.17870942  2.17146651]\n",
      " [ 2.25807657 -0.22526231  0.80881977]\n",
      " [-0.27322701  2.25917947  1.17077691]\n",
      " [-0.26638767  1.21631409  2.22685842]\n",
      " [-0.26740532  1.20784059  2.23528903]\n",
      " [-0.12135744  2.22922779  0.79343961]\n",
      " [-0.2365929   1.12219635  2.21706342]\n",
      " [-0.21558048  2.22640865  0.92573306]\n",
      " [ 2.22344499 -0.19955645  0.88288227]\n",
      " [ 2.22671228  0.93600592 -0.21794279]\n",
      " [ 2.26578978 -0.24701281  0.82742467]\n",
      " [-0.26556065  1.16490628  2.24871607]\n",
      " [ 2.26204658  0.89725133 -0.25453765]\n",
      " [-0.2518152   2.22343258  1.17120859]\n",
      " [-0.27340098  1.23624732  2.22678409]\n",
      " [-0.21624631  2.17118121  1.14723861]\n",
      " [ 2.22874494 -0.17513313  0.8269183 ]\n",
      " [ 2.2211989   0.87213971 -0.19151045]\n",
      " [-0.23391072  2.21566697  1.11400955]\n",
      " [ 2.22671228  0.93600592 -0.21794279]\n",
      " [-0.29609931  1.25285329  2.27596663]\n",
      " [-0.25476857  1.20746943  2.20485252]\n",
      " [-0.29672783  1.24461331  2.28083131]\n",
      " [-0.27578664  1.21663499  2.24864564]\n",
      " [-0.28091389  2.25930846  1.21661886]\n",
      " [-0.21369288  1.05233452  2.20512234]\n",
      " [-0.27669555  1.12529292  2.27023906]\n",
      " [-0.16942442  2.17056098  0.99533295]\n",
      " [ 2.24933086 -0.25468768  1.0709247 ]\n",
      " [-0.23391072  2.21566697  1.11400955]\n",
      " [ 2.18638944  1.20994285 -0.24936796]\n",
      " [-0.22656825  2.23557826  0.92551338]\n",
      " [-0.27989264  1.21274017  2.25881762]\n",
      " [ 2.24156015  0.83211053 -0.20597859]\n",
      " [-0.28390119  1.23920595  2.25400509]\n",
      " [ 2.24837463  0.81114157 -0.20592544]\n",
      " [ 2.25702986  0.81715893 -0.22763295]\n",
      " [-0.22765797  1.07419821  2.21710769]\n",
      " [-0.18996302  2.19089984  0.99497945]\n",
      " [-0.27357394  1.19278157  2.25408746]\n",
      " [ 2.23355717  0.86019975 -0.2060317 ]\n",
      " [ 2.25277813 -0.21394322  0.80875361]\n",
      " [-0.18611572  1.10670475  2.14746524]\n",
      " [ 2.25454797  0.88341904 -0.24307373]\n",
      " [-0.23391072  2.21566697  1.11400955]\n",
      " [ 2.23794605  0.91585392 -0.22774264]\n",
      " [-0.26740532  1.20784059  2.23528903]\n",
      " [ 2.0914977   1.20089769 -0.21820392]\n",
      " [ 2.25962348  0.84878847 -0.24304703]\n",
      " [-0.25213485  1.16423702  2.22696973]\n",
      " [ 2.26725005  0.88232062 -0.25923379]\n",
      " [-0.14201734  2.14344591  0.99568721]\n",
      " [ 2.25731     0.95572321 -0.25455798]\n",
      " [-0.22656825  2.23557826  0.92551338]\n",
      " [-0.19708433  2.25161696  0.79328185]\n",
      " [ 2.23957622  0.81769302 -0.19137855]\n",
      " [ 2.21575566  1.0173258  -0.21798639]\n",
      " [ 1.02668315  2.21468275 -0.21824732]\n",
      " [ 2.27472592  0.77777882 -0.24294008]\n",
      " [-0.21624631  2.17118121  1.14723861]\n",
      " [-0.24730284  1.20252603  2.19004536]\n",
      " [ 2.24156015  0.83211053 -0.20597859]\n",
      " [-0.27273902  1.20332527  2.24866913]\n",
      " [-0.19455078  2.17814555  1.06749683]\n",
      " [-0.28027257  2.2623408   1.20447285]\n",
      " [-0.28054312  1.20372124  2.26304729]\n",
      " [-0.23391072  2.21566697  1.11400955]\n",
      " [ 2.17896853 -0.12686338  0.8824238 ]\n",
      " [ 2.19820639  1.04471124 -0.20619077]\n",
      " [-0.26313706  2.23602532  1.18984329]\n",
      " [-0.25331913  2.21599142  1.18997806]\n",
      " [-0.28966527  1.23403227  2.27016072]\n",
      " [-0.23157808  2.22314802  1.06680048]\n",
      " [-0.26533811  1.22371567  2.21684157]\n",
      " [-0.25751543  1.18608093  2.22693265]\n",
      " [-0.27562627  2.24825903  1.21670804]\n",
      " [-0.27273902  1.20332527  2.24866913]\n",
      " [ 2.22671228  0.93600592 -0.21794279]]\n"
     ]
    }
   ],
   "source": [
    "# 4.模型评估\n",
    "print_accuracy(clf,x_train,y_train,x_test,y_test)"
   ]
  },
  {
   "cell_type": "markdown",
   "metadata": {
    "collapsed": false
   },
   "source": [
    "# **Step5.模型使用**"
   ]
  },
  {
   "cell_type": "code",
   "execution_count": 13,
   "metadata": {
    "collapsed": false
   },
   "outputs": [],
   "source": [
    "def draw(clf, x):\r\n",
    "    iris_feature = 'sepal length', 'sepal width', 'petal lenght', 'petal width'\r\n",
    "    # 开始画图\r\n",
    "    x1_min, x1_max = x[:, 0].min(), x[:, 0].max()               #第0列的范围\r\n",
    "    x2_min, x2_max = x[:, 1].min(), x[:, 1].max()               #第1列的范围\r\n",
    "    x1, x2 = np.mgrid[x1_min:x1_max:200j, x2_min:x2_max:200j]   #生成网格采样点\r\n",
    "    grid_test = np.stack((x1.flat, x2.flat), axis=1)            #stack():沿着新的轴加入一系列数组\r\n",
    "    print('grid_test:\\n', grid_test)\r\n",
    "    # 输出样本到决策面的距离\r\n",
    "    z = clf.decision_function(grid_test)\r\n",
    "    print('the distance to decision plane:\\n', z)\r\n",
    "    \r\n",
    "    grid_hat = clf.predict(grid_test)                           # 预测分类值 得到【0,0.。。。2,2,2】\r\n",
    "    print('grid_hat:\\n', grid_hat)  \r\n",
    "    grid_hat = grid_hat.reshape(x1.shape)                       # reshape grid_hat和x1形状一致\r\n",
    "                                                                #若3*3矩阵e，则e.shape()为3*3,表示3行3列   \r\n",
    " \r\n",
    "    cm_light = mpl.colors.ListedColormap(['#A0FFA0', '#FFA0A0', '#A0A0FF'])\r\n",
    "    cm_dark = mpl.colors.ListedColormap(['g', 'b', 'r'])\r\n",
    " \r\n",
    "    plt.pcolormesh(x1, x2, grid_hat, cmap=cm_light)                                   # pcolormesh(x,y,z,cmap)这里参数代入\r\n",
    "                                                                                      # x1，x2，grid_hat，cmap=cm_light绘制的是背景。\r\n",
    "    plt.scatter(x[:, 0], x[:, 1], c=np.squeeze(y), edgecolor='k', s=50, cmap=cm_dark) # 样本点\r\n",
    "    plt.scatter(x_test[:, 0], x_test[:, 1], s=120, facecolor='none', zorder=10)       # 测试点\r\n",
    "    plt.xlabel(iris_feature[0], fontsize=20)\r\n",
    "    plt.ylabel(iris_feature[1], fontsize=20)\r\n",
    "    plt.xlim(x1_min, x1_max)\r\n",
    "    plt.ylim(x2_min, x2_max)\r\n",
    "    plt.title('svm in iris data classification', fontsize=30)\r\n",
    "    plt.grid()\r\n",
    "    plt.show()"
   ]
  },
  {
   "cell_type": "code",
   "execution_count": 14,
   "metadata": {
    "collapsed": false
   },
   "outputs": [
    {
     "name": "stdout",
     "output_type": "stream",
     "text": [
      "grid_test:\n",
      " [[4.3       2.       ]\n",
      " [4.3       2.0120603]\n",
      " [4.3       2.0241206]\n",
      " ...\n",
      " [7.9       4.3758794]\n",
      " [7.9       4.3879397]\n",
      " [7.9       4.4      ]]\n",
      "the distance to decision plane:\n",
      " [[ 2.17689921  1.23467171 -0.25941323]\n",
      " [ 2.17943684  1.23363096 -0.25941107]\n",
      " [ 2.18189345  1.23256802 -0.25940892]\n",
      " ...\n",
      " [-0.27958977  0.83621535  2.28683228]\n",
      " [-0.27928358  0.8332275   2.28683314]\n",
      " [-0.27897389  0.83034313  2.28683399]]\n",
      "grid_hat:\n",
      " [0. 0. 0. ... 2. 2. 2.]\n"
     ]
    },
    {
     "data": {
      "image/png": "[encoded data removed]",
      "text/plain": [
       "<Figure size 640x480 with 1 Axes>"
      ]
     },
     "metadata": {},
     "output_type": "display_data"
    }
   ],
   "source": [
    "# 5.模型使用\n",
    "draw(clf,x)"
   ]
  },
  {
   "cell_type": "code",
   "execution_count": null,
   "metadata": {
    "collapsed": false
   },
   "outputs": [],
   "source": []
  }
 ],
 "metadata": {
  "kernelspec": {
   "display_name": "Python 3",
   "language": "python",
   "name": "py35-paddle1.2.0"
  },
  "language_info": {
   "codemirror_mode": {
    "name": "ipython",
    "version": 3
   },
   "file_extension": ".py",
   "mimetype": "text/x-python",
   "name": "python",
   "nbconvert_exporter": "python",
   "pygments_lexer": "ipython3",
   "version": "3.7.4"
  }
 },
 "nbformat": 4,
 "nbformat_minor": 1
}
